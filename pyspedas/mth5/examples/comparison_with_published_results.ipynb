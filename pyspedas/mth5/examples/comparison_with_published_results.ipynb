{
 "cells": [
  {
   "cell_type": "markdown",
   "source": [],
   "metadata": {
    "collapsed": false
   },
   "id": "961999640308ae8c"
  },
  {
   "cell_type": "code",
   "execution_count": 15,
   "outputs": [],
   "source": [
    "# Uncomment the \"!pip install\" line below to use on Google Colab. Run this cell and restart the runtime kernel.\n",
    "# https://colab.research.google.com/github/spedas/pyspedas/blob/mth5/pyspedas/mth5/examples/comparison_with_published_results.ipynb\n",
    "# !pip install git+https://github.com/spedas/pyspedas.git@mth5\n",
    "# !pip install git+https://github.com/kujaku11/mth5.git"
   ],
   "metadata": {
    "collapsed": false,
    "ExecuteTime": {
     "end_time": "2023-12-01T06:04:16.835742200Z",
     "start_time": "2023-12-01T06:04:16.826741400Z"
    }
   },
   "id": "f954b061b31d55f"
  },
  {
   "cell_type": "markdown",
   "source": [
    "# Results from Heyns et al. (2020)\n",
    "\n",
    "This notebook show example of the measurements from the Fredericksbur (FRD) station and nearby stations obtained from FDSN network.\n",
    "Figure 1 by [Heyns et al. (2020)]((https://agupubs.onlinelibrary.wiley.com/doi/full/10.1029/2020SW002557)) illustrates such measurement in comparion with GIC measurments \n",
    "\n",
    "Heyns, M. J., Lotz, S. I., & Gaunt, C. T. (2021). Geomagnetic pulsations driving geomagnetically induced currents. Space Weather, 19, e2020SW002557. https://doi.org/10.1029/2020SW002557"
   ],
   "metadata": {
    "collapsed": false
   },
   "id": "e2a4c909e5e64b9e"
  },
  {
   "cell_type": "code",
   "execution_count": null,
   "outputs": [],
   "source": [
    "from IPython.display import Image\n",
    "Image(url= \"https://agupubs.onlinelibrary.wiley.com/cms/asset/015c5548-201a-4fd0-a676-b8b872089875/swe21080-fig-0001-m.jpg\", width=900, height=600)"
   ],
   "metadata": {
    "collapsed": false
   },
   "id": "4b5395e8795dffc5"
  },
  {
   "cell_type": "markdown",
   "source": [
    "# Plot FRD station data using PySPEDAS GMAG\n",
    "\n",
    "To obtain the measurements from FRD station we use `themis.gmag` module, which provides access to the [large set of magnetometer data](https://themis.ssl.berkeley.edu/gmag/gmag_list.php?selyear=4000&selmonth=13&smap=on&sinfo=on&saelist=on&ae=on).\n",
    "[FRD station](https://www.usgs.gov/programs/geomagnetism/science/fredericksburg-frd) is a gold standard in Space Physics. It is a part of [USGS Geomagnetic Observatory](https://www.usgs.gov/programs/geomagnetism/science/observatories). "
   ],
   "metadata": {
    "collapsed": false
   },
   "id": "3f65df5499143c01"
  },
  {
   "cell_type": "code",
   "execution_count": null,
   "outputs": [],
   "source": [
    "import pyspedas, pytplot\n",
    "\n",
    "date_start = '2015-06-22T01:45:00'\n",
    "date_end = '2015-06-22T02:20:00'\n",
    "# Load data from FDR station\n",
    "pyspedas.themis.gmag(sites='frd', trange=[date_start, date_end], time_clip=True)\n",
    "\n",
    "# Split data into individual components\n",
    "pytplot.split_vec('thg_mag_frd')\n",
    "\n",
    "# Plot y component\n",
    "pytplot.tplot('thg_mag_frd_y')"
   ],
   "metadata": {
    "collapsed": false
   },
   "id": "b391ea110180a18c"
  },
  {
   "cell_type": "markdown",
   "source": [
    "The output from pytplot is the same as in Figure 1 from Heyns et al. (2020) "
   ],
   "metadata": {
    "collapsed": false
   },
   "id": "2e7b5f7989d7df27"
  },
  {
   "cell_type": "markdown",
   "source": [
    "# Search for nearby stations\n",
    "\n",
    "FRD station coordinates are presented in Table 1 from Heyns et al. (2020)\n",
    "\n",
    "| Station         | Geographic latitude | Geographic longitude | Geomagnetic MLat. | Geomagnetic MLon. |\n",
    "|-----------------|---------------------|----------------------|-------------------|-------------------|\n",
    "| Fredericksburg  | 38.2°               | −77.4°               | 47.8°             | −0.2°             |\n",
    "\n",
    "To find nearby station we can use the [https://ds.iris.edu/gmap/](https://ds.iris.edu/gmap/) webpage."
   ],
   "metadata": {
    "collapsed": false
   },
   "id": "87100fa29b846a62"
  },
  {
   "cell_type": "code",
   "execution_count": null,
   "outputs": [],
   "source": [
    "from IPython.display import IFrame\n",
    "from datetime import datetime, timedelta\n",
    "\n",
    "date_fmt = \"%Y-%m-%dT%H:%M:%S\"\n",
    "sdate = datetime.strptime(date_start, date_fmt).strftime('%Y-%m-%d') # Only date \n",
    "edate =(datetime.strptime(date_start, date_fmt) + timedelta(days=1)).strftime('%Y-%m-%d') # Only date but plus one day\n",
    "net = '*' # Select all networks\n",
    "lat = 38.2 # Geographic latitude\n",
    "lon = -77.4 # Geographic longitude\n",
    "rad = 8  # Radius of the area\n",
    "\n",
    "# Construct url using fstring\n",
    "url= f'https://ds.iris.edu/gmap/#network={net}&starttime={sdate}&endtime={edate}&latitude={lat}&longitude={lon}&maxradius={rad}&drawingmode=radial&planet=earth'\n",
    "print(url)\n",
    "IFrame(url, 900,500)"
   ],
   "metadata": {
    "collapsed": false
   },
   "id": "204b25cd14a5d500"
  },
  {
   "cell_type": "markdown",
   "source": [
    "# Limit stations of interest\n",
    "\n",
    "The previous request provided multiple stations, including FRD. Now we need to limit the search to the stations that can provide magnetometer data in IRIS. According to the Standard for the Exchange of Earthquake Data (or **SEED**) [reference manual appendix A](https://www.fdsn.org/pdf/SEEDManual_V2.4_Appendix-A.pdf), the SEED format uses three letters to name the channels (Band code, Instrument code and Orientation code). We are interested in magnetomenter data which has an instrument code **F**. However, the wildcard '\\*F\\*' will return channels that also ends with 'F' and do not represent magnetic field data. Hence, we include only list of channels that correspond to low frequency magnetic field measurements: MF\\*, LF\\*, VF\\*, UF\\*. Note, that we did not include the orientation code, which can be **Z**, **N**, **E** (Vertical, North-South, East-West). To exclude channels that may represent something else (e.g.,  **VFP** Packet Buffer Usage), we can further limit our search to East-West oriented magnetomenter: MFE, LFE, VFE, UFE"
   ],
   "metadata": {
    "collapsed": false
   },
   "id": "b99d62b171f59839"
  },
  {
   "cell_type": "code",
   "execution_count": null,
   "outputs": [],
   "source": [
    "channel = \"MFE,LFE,VFE,UFE\" \n",
    "url= f'https://ds.iris.edu/gmap/#network={net}&channel={channel}&starttime={sdate}&endtime={edate}&latitude={lat}&longitude={lon}&maxradius={rad}&drawingmode=radial&planet=earth'\n",
    "print(url)\n",
    "IFrame(url, 900,650)"
   ],
   "metadata": {
    "collapsed": false
   },
   "id": "841fff1107a777a5"
  },
  {
   "cell_type": "markdown",
   "source": [
    "# Plot station data using PySPEDAS MTH5 \n",
    "\n",
    "Let select station  **REU49** from network **4P** and load data using mth5 format.\n",
    "\n",
    "To obtain the station data we use `load_fdsn` function of `mth5` module. Not that we use `nodownload` flag, which prevents recurrent download of the data. Once the data is obtained for selected period the .h5 cache file is created. `nodownload=False` will force to create the .h5 files every time."
   ],
   "metadata": {
    "collapsed": false
   },
   "id": "ba03c7c3eee051f9"
  },
  {
   "cell_type": "code",
   "execution_count": null,
   "outputs": [],
   "source": [
    "from pyspedas.mth5.load_fdsn import load_fdsn\n",
    "\n",
    "load_fdsn(network=\"4P\", station=\"REU49\", trange=[date_start, date_end], nodownload=True)\n",
    "\n",
    "# Split data into individual components\n",
    "pytplot.split_vec('fdsn_4P_REU49')\n",
    "\n",
    "# Plot all data and the y component\n",
    "pytplot.tplot(['fdsn_4P_REU49', 'fdsn_4P_REU49_y'])"
   ],
   "metadata": {
    "collapsed": false
   },
   "id": "95addd7c8ec607a2"
  },
  {
   "cell_type": "markdown",
   "source": [
    "Let explore another station **GAW50** from the same network **4P**"
   ],
   "metadata": {
    "collapsed": false
   },
   "id": "f4aa41fadb9c8323"
  },
  {
   "cell_type": "code",
   "execution_count": null,
   "outputs": [],
   "source": [
    "load_fdsn(network=\"4P\", station=\"GAW50\", trange=[date_start, date_end], nodownload=True)\n",
    "\n",
    "# Split data into individual components\n",
    "pytplot.split_vec('fdsn_4P_GAW50')\n",
    "\n",
    "# Plot all data and the y component\n",
    "pytplot.tplot(['fdsn_4P_GAW50', 'fdsn_4P_GAW50_y'])"
   ],
   "metadata": {
    "collapsed": false
   },
   "id": "f30ff68ba9a328b0"
  },
  {
   "cell_type": "markdown",
   "source": [
    "# Compare the results\n",
    "\n",
    "Finally, we can compare the results by plotting de-trended By from all 3 stations. For simply subtract the median value."
   ],
   "metadata": {
    "collapsed": false
   },
   "id": "76f008f1aa8f3b7"
  },
  {
   "cell_type": "code",
   "execution_count": null,
   "outputs": [],
   "source": [
    "import numpy as np\n",
    "\n",
    "tplot_vars = ['thg_mag_frd_y', 'fdsn_4P_REU49_y', 'fdsn_4P_GAW50_y']\n",
    "\n",
    "for var in tplot_vars:\n",
    "   time, by = pytplot.get_data(var)  # Unpack tplot variable\n",
    "   by -= np.median(by)  # Subtract median   \n",
    "   pytplot.options(var, opt_dict={\"legend_names\": [var], \"ytitle\": var.split(\"_\")[2].upper()}) #  Customize labels\n",
    "\n",
    "pytplot.tplot(tplot_vars)"
   ],
   "metadata": {
    "collapsed": false
   },
   "id": "59e26e4cdff549b5"
  },
  {
   "cell_type": "markdown",
   "source": [
    "# Handling data from other stations\n",
    "\n",
    "There could be a scenario when the data from other stations is inconsistent. For example, as of November 2023 the data from the station **REQ48** of the same network **4P** shows significant outlier and potentially flipped. Let's explore this station and plot the results. \n"
   ],
   "metadata": {
    "collapsed": false
   },
   "id": "909b1350cbb311ff"
  },
  {
   "cell_type": "code",
   "execution_count": null,
   "outputs": [],
   "source": [
    "load_fdsn(network=\"4P\", station=\"REQ48\", trange=[date_start, date_end], nodownload=True)\n",
    "pytplot.split_vec('fdsn_4P_REQ48')\n",
    "pytplot.options('fdsn_4P_REQ48_y', 'yrange', [-2, 2])  # Manually set the range, because 4P REQ48 have outliers in the signal\n",
    "pytplot.tplot(['fdsn_4P_REQ48', 'fdsn_4P_REQ48_y', 'thg_mag_frd_y']) # Add FRD station ius added for comparison "
   ],
   "metadata": {
    "collapsed": false
   },
   "id": "f24fa5f6a8203d76"
  },
  {
   "cell_type": "markdown",
   "source": [
    "Another scenario is when the IRDS map indicate availability, however the data is unavailable. \n",
    "The next example tries to load all stations. If the data is not available the MTH processing raises and exception which can be handed by try-except block. However, you can use flag `noexeptions` to bypass this."
   ],
   "metadata": {
    "collapsed": false
   },
   "id": "2fd52e7645b96bb2"
  },
  {
   "cell_type": "code",
   "execution_count": null,
   "outputs": [],
   "source": [
    "stations = ['ALW49', 'GAW50', 'REP47', 'REQ48', 'REU49', 'TNU48', 'TNV48']\n",
    "tplot_str = []\n",
    "for sta in stations:\n",
    "   load_fdsn(network=\"4P\", station=sta, trange=[date_start, date_end], nodownload=True, noexception=True)   \n",
    "   pytplot.split_vec(f'fdsn_4P_{sta}')\n",
    "   var = f'fdsn_4P_{sta}_y'\n",
    "   tplot_str.append(var)\n",
    "   pytplot.options(var, opt_dict={\"legend_names\": [var], \"ytitle\": var.split(\"_\")[2].upper()}) #  Customize labels\n",
    "\n",
    "pytplot.tplot(tplot_str)"
   ],
   "metadata": {
    "collapsed": false
   },
   "id": "3f2d29c621731ee9"
  },
  {
   "cell_type": "markdown",
   "source": [],
   "metadata": {
    "collapsed": false
   },
   "id": "44b688b04ddbb08c"
  },
  {
   "cell_type": "markdown",
   "source": [
    "In the previous example, the data from station **TNU48** has not been created. Next example shows how processing of the absent data can be handled in your code"
   ],
   "metadata": {
    "collapsed": false
   },
   "id": "9a385a932d7f17c6"
  },
  {
   "cell_type": "code",
   "execution_count": null,
   "outputs": [],
   "source": [
    "def tplot_fdsn_station(network, station, trange):\n",
    "   \"\"\"Plot data only is load_fdsn does not return an error. Print error details\"\"\"\n",
    "\n",
    "   # tplot variable string\n",
    "   var = None\n",
    "   \n",
    "   try:\n",
    "      load_fdsn(network=network, station=station, trange=trange)\n",
    "      var = f'fdsn_{network}_{station}'\n",
    "   except Exception as E:\n",
    "      print(\"FDSN loading error: \", type(E), E)\n",
    "      \n",
    "   if var:\n",
    "      pytplot.tplot(var)\n",
    "   else:\n",
    "      # Nothing to plot\n",
    "      pass\n",
    "\n",
    "tplot_fdsn_station(\"4P\", \"TNU48\", [date_start, date_end])"
   ],
   "metadata": {
    "collapsed": false
   },
   "id": "80008ffaa68363cb"
  },
  {
   "cell_type": "markdown",
   "source": [
    "Next example simulate the situation when FDSN cannot find or load the data. This will intentionally set not existing station"
   ],
   "metadata": {
    "collapsed": false
   },
   "id": "6880997e39dacbc8"
  },
  {
   "cell_type": "code",
   "execution_count": null,
   "outputs": [],
   "source": [
    "tplot_fdsn_station(\"4P\", \"TNU0\", [date_start, date_end])"
   ],
   "metadata": {
    "collapsed": false
   },
   "id": "7eb088c907a067d3"
  }
 ],
 "metadata": {
  "kernelspec": {
   "display_name": "Python 3",
   "language": "python",
   "name": "python3"
  },
  "language_info": {
   "codemirror_mode": {
    "name": "ipython",
    "version": 2
   },
   "file_extension": ".py",
   "mimetype": "text/x-python",
   "name": "python",
   "nbconvert_exporter": "python",
   "pygments_lexer": "ipython2",
   "version": "2.7.6"
  }
 },
 "nbformat": 4,
 "nbformat_minor": 5
}
